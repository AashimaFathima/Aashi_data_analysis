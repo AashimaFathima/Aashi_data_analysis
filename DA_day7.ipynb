{
  "nbformat": 4,
  "nbformat_minor": 0,
  "metadata": {
    "colab": {
      "provenance": []
    },
    "kernelspec": {
      "name": "python3",
      "display_name": "Python 3"
    },
    "language_info": {
      "name": "python"
    }
  },
  "cells": [
    {
      "cell_type": "markdown",
      "source": [
        "Project\n"
      ],
      "metadata": {
        "id": "-1EwVvFM8B-z"
      }
    },
    {
      "cell_type": "code",
      "source": [
        "import tensorflow as tf\n",
        "from tensorflow import keras\n",
        "from tensorflow.keras import layers\n",
        "from tensorflow.keras.preprocessing.image import ImageDataGenerator\n",
        "\n",
        "#define image size and batch size\n",
        "IMG_SIZE=224\n",
        "BATCH_SIZE=32"
      ],
      "metadata": {
        "id": "O18GoR0T8BoO"
      },
      "execution_count": null,
      "outputs": []
    },
    {
      "cell_type": "code",
      "execution_count": null,
      "metadata": {
        "id": "KI3NwA96jcOQ",
        "colab": {
          "base_uri": "https://localhost:8080/"
        },
        "outputId": "5664b44e-70b9-4317-fbbe-41660fe73fc2"
      },
      "outputs": [
        {
          "output_type": "stream",
          "name": "stdout",
          "text": [
            "Found 2400 images belonging to 2 classes.\n",
            "Found 600 images belonging to 2 classes.\n",
            "Found 60 images belonging to 1 classes.\n"
          ]
        }
      ],
      "source": [
        "#define data generators for train, validation and test sets\n",
        "train_datagen=ImageDataGenerator(\n",
        "    rescale=1./255,\n",
        "    validation_split=0.2\n",
        ")\n",
        "\n",
        "train_generator=train_datagen.flow_from_directory(\n",
        "    '/content/drive/MyDrive/Brain_Tumor_Detection/Brain_Tumor_Detection/train',\n",
        "    target_size=(IMG_SIZE,IMG_SIZE),\n",
        "    batch_size=BATCH_SIZE,\n",
        "    class_mode='binary',\n",
        "    subset='training'\n",
        ")\n",
        "\n",
        "val_generator=train_datagen.flow_from_directory(\n",
        "    '/content/drive/MyDrive/Brain_Tumor_Detection/Brain_Tumor_Detection/train',\n",
        "    target_size=(IMG_SIZE,IMG_SIZE),\n",
        "    batch_size=BATCH_SIZE,\n",
        "    class_mode='binary',\n",
        "    subset='validation'\n",
        ")\n",
        "\n",
        "test_datagen=ImageDataGenerator(rescale=1./255)\n",
        "test_generator=test_datagen.flow_from_directory(\n",
        "    '/content/drive/MyDrive/Brain_Tumor_Detection/Brain_Tumor_Detection/test',\n",
        "    target_size=(IMG_SIZE,IMG_SIZE),\n",
        "    batch_size=BATCH_SIZE,\n",
        "    class_mode='binary',\n",
        ")\n",
        "\n"
      ]
    },
    {
      "cell_type": "code",
      "source": [
        "from google.colab import drive\n",
        "drive.mount('/content/drive')"
      ],
      "metadata": {
        "colab": {
          "base_uri": "https://localhost:8080/"
        },
        "id": "1W2UkxRvh1FY",
        "outputId": "785b12bf-51e3-4af4-80e4-71d30b084828"
      },
      "execution_count": null,
      "outputs": [
        {
          "output_type": "stream",
          "name": "stdout",
          "text": [
            "Drive already mounted at /content/drive; to attempt to forcibly remount, call drive.mount(\"/content/drive\", force_remount=True).\n"
          ]
        }
      ]
    },
    {
      "cell_type": "code",
      "source": [
        "#create the model\n",
        "model=keras.Sequential([\n",
        "  layers.Conv2D(32,(3,3), activation='relu', input_shape=(IMG_SIZE,IMG_SIZE,3)),\n",
        "  layers.MaxPooling2D((2,2)),\n",
        "  layers.Conv2D(64,(3,3), activation='relu'),\n",
        "  layers.MaxPooling2D((2,2)),\n",
        "  layers.Conv2D(128,(3,3), activation='relu'),\n",
        "  layers.MaxPooling2D((2,2)),\n",
        "  layers.Flatten(), #preprocessing\n",
        "  layers.Dense(128, activation='relu'),\n",
        "  layers.Dense(1, activation='sigmoid')\n",
        "])"
      ],
      "metadata": {
        "id": "kfa4xCzOkxVD"
      },
      "execution_count": null,
      "outputs": []
    },
    {
      "cell_type": "code",
      "source": [
        "#compile the model\n",
        "model.compile(optimizer='adam', loss='binary_crossentropy', metrics=['accuracy'])"
      ],
      "metadata": {
        "id": "wa-MNTNzm-Hx"
      },
      "execution_count": null,
      "outputs": []
    },
    {
      "cell_type": "code",
      "source": [
        "history=model.fit(train_generator,validation_data=val_generator,epochs=2)"
      ],
      "metadata": {
        "colab": {
          "base_uri": "https://localhost:8080/"
        },
        "id": "ydFiFQLTnRDy",
        "outputId": "7e5b7b98-a561-4feb-a281-e3cb8f513325"
      },
      "execution_count": null,
      "outputs": [
        {
          "output_type": "stream",
          "name": "stdout",
          "text": [
            "Epoch 1/5\n",
            "75/75 [==============================] - 320s 4s/step - loss: 0.0088 - accuracy: 0.9983 - val_loss: 0.0392 - val_accuracy: 0.9900\n",
            "Epoch 2/5\n",
            "75/75 [==============================] - 319s 4s/step - loss: 0.0146 - accuracy: 0.9950 - val_loss: 0.0186 - val_accuracy: 0.9900\n",
            "Epoch 3/5\n",
            "75/75 [==============================] - 294s 4s/step - loss: 0.0026 - accuracy: 0.9992 - val_loss: 0.0019 - val_accuracy: 1.0000\n",
            "Epoch 4/5\n",
            "75/75 [==============================] - 315s 4s/step - loss: 4.3773e-04 - accuracy: 1.0000 - val_loss: 0.0013 - val_accuracy: 1.0000\n",
            "Epoch 5/5\n",
            "75/75 [==============================] - 313s 4s/step - loss: 1.2731e-04 - accuracy: 1.0000 - val_loss: 0.0014 - val_accuracy: 1.0000\n"
          ]
        }
      ]
    },
    {
      "cell_type": "code",
      "source": [
        "model.save('Model.h5','label.txt')"
      ],
      "metadata": {
        "colab": {
          "base_uri": "https://localhost:8080/"
        },
        "id": "iSUsIa3OoY9S",
        "outputId": "88fed705-4aa7-41fb-8dda-16ff9fe560fa"
      },
      "execution_count": null,
      "outputs": [
        {
          "output_type": "stream",
          "name": "stderr",
          "text": [
            "/usr/local/lib/python3.10/dist-packages/keras/src/engine/training.py:3103: UserWarning: You are saving your model as an HDF5 file via `model.save()`. This file format is considered legacy. We recommend using instead the native Keras format, e.g. `model.save('my_model.keras')`.\n",
            "  saving_api.save_model(\n"
          ]
        }
      ]
    },
    {
      "cell_type": "code",
      "source": [
        "from tensorflow.keras.models import load_model\n",
        "from tensorflow.keras.preprocessing import image\n",
        "import numpy as np\n",
        "\n",
        "#load the saved model\n",
        "model=load_model('/content/Model.h5')\n",
        "\n",
        "#load and preprocess the test image\n",
        "test_image_path='/content/drive/MyDrive/Brain_Tumor_Detection/Brain_Tumor_Detection/test/pred/pred16.jpg'\n",
        "img=image.load_img(test_image_path, target_size=(224,224))\n",
        "img_array=image.img_to_array(img)\n",
        "img_array=np.expand_dims(img_array,axis=0) #Add batch dimension\n",
        "img_array /=255 #Normalize the pixel values\n",
        "#Make predictions\n",
        "prediction=model.predict(img_array)\n",
        "#Print the prediction\n",
        "if prediction < 0.5:\n",
        "  print('Prediction: No tumour (Probability:',prediction[0][0],')')\n",
        "else:\n",
        "  print('Prediction: Tumour present (Probability:',prediction[0][0],')')"
      ],
      "metadata": {
        "colab": {
          "base_uri": "https://localhost:8080/"
        },
        "id": "hOBnE7SyoyDW",
        "outputId": "40764dd8-ed02-4820-e01e-76e8785e4ea0"
      },
      "execution_count": null,
      "outputs": [
        {
          "output_type": "stream",
          "name": "stdout",
          "text": [
            "1/1 [==============================] - 0s 156ms/step\n",
            "Prediction: Tumour present (Probability: 0.9999281 )\n"
          ]
        }
      ]
    }
  ]
}