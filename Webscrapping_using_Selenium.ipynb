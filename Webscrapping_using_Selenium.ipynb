{
 "cells": [
  {
   "cell_type": "markdown",
   "id": "b634db2e",
   "metadata": {},
   "source": [
    "Problem 3\n",
    "Extractig dell laptops data from amazon.in website and saving it as .csv \n",
    "Name of the laptop, Price, No. of reviews\n",
    "\n"
   ]
  },
  {
   "cell_type": "code",
   "execution_count": 2,
   "id": "16a70aba",
   "metadata": {},
   "outputs": [
    {
     "name": "stdout",
     "output_type": "stream",
     "text": [
      "Requirement already satisfied: selenium in c:\\users\\aashi\\anaconda3\\lib\\site-packages (4.17.2)\n",
      "Requirement already satisfied: urllib3[socks]<3,>=1.26 in c:\\users\\aashi\\anaconda3\\lib\\site-packages (from selenium) (1.26.16)\n",
      "Requirement already satisfied: trio~=0.17 in c:\\users\\aashi\\anaconda3\\lib\\site-packages (from selenium) (0.24.0)\n",
      "Requirement already satisfied: trio-websocket~=0.9 in c:\\users\\aashi\\anaconda3\\lib\\site-packages (from selenium) (0.11.1)\n",
      "Requirement already satisfied: certifi>=2021.10.8 in c:\\users\\aashi\\anaconda3\\lib\\site-packages (from selenium) (2023.7.22)\n",
      "Requirement already satisfied: typing_extensions>=4.9.0 in c:\\users\\aashi\\anaconda3\\lib\\site-packages (from selenium) (4.9.0)\n",
      "Requirement already satisfied: attrs>=20.1.0 in c:\\users\\aashi\\anaconda3\\lib\\site-packages (from trio~=0.17->selenium) (22.1.0)\n",
      "Requirement already satisfied: sortedcontainers in c:\\users\\aashi\\anaconda3\\lib\\site-packages (from trio~=0.17->selenium) (2.4.0)\n",
      "Requirement already satisfied: idna in c:\\users\\aashi\\anaconda3\\lib\\site-packages (from trio~=0.17->selenium) (3.4)\n",
      "Requirement already satisfied: outcome in c:\\users\\aashi\\anaconda3\\lib\\site-packages (from trio~=0.17->selenium) (1.3.0.post0)\n",
      "Requirement already satisfied: sniffio>=1.3.0 in c:\\users\\aashi\\anaconda3\\lib\\site-packages (from trio~=0.17->selenium) (1.3.0)\n",
      "Requirement already satisfied: cffi>=1.14 in c:\\users\\aashi\\anaconda3\\lib\\site-packages (from trio~=0.17->selenium) (1.15.1)\n",
      "Requirement already satisfied: wsproto>=0.14 in c:\\users\\aashi\\anaconda3\\lib\\site-packages (from trio-websocket~=0.9->selenium) (1.2.0)\n",
      "Requirement already satisfied: PySocks!=1.5.7,<2.0,>=1.5.6 in c:\\users\\aashi\\anaconda3\\lib\\site-packages (from urllib3[socks]<3,>=1.26->selenium) (1.7.1)\n",
      "Requirement already satisfied: pycparser in c:\\users\\aashi\\anaconda3\\lib\\site-packages (from cffi>=1.14->trio~=0.17->selenium) (2.21)\n",
      "Requirement already satisfied: h11<1,>=0.9.0 in c:\\users\\aashi\\anaconda3\\lib\\site-packages (from wsproto>=0.14->trio-websocket~=0.9->selenium) (0.14.0)\n"
     ]
    }
   ],
   "source": [
    "!pip install selenium"
   ]
  },
  {
   "cell_type": "code",
   "execution_count": 3,
   "id": "1439e423",
   "metadata": {},
   "outputs": [
    {
     "name": "stdout",
     "output_type": "stream",
     "text": [
      "Collecting webdriver_manager\n",
      "  Obtaining dependency information for webdriver_manager from https://files.pythonhosted.org/packages/b1/51/b5c11cf739ac4eecde611794a0ec9df420d0239d51e73bc19eb44f02b48b/webdriver_manager-4.0.1-py2.py3-none-any.whl.metadata\n",
      "  Downloading webdriver_manager-4.0.1-py2.py3-none-any.whl.metadata (12 kB)\n",
      "Requirement already satisfied: requests in c:\\users\\aashi\\anaconda3\\lib\\site-packages (from webdriver_manager) (2.31.0)\n",
      "Requirement already satisfied: python-dotenv in c:\\users\\aashi\\anaconda3\\lib\\site-packages (from webdriver_manager) (0.21.0)\n",
      "Requirement already satisfied: packaging in c:\\users\\aashi\\anaconda3\\lib\\site-packages (from webdriver_manager) (23.1)\n",
      "Requirement already satisfied: charset-normalizer<4,>=2 in c:\\users\\aashi\\anaconda3\\lib\\site-packages (from requests->webdriver_manager) (2.0.4)\n",
      "Requirement already satisfied: idna<4,>=2.5 in c:\\users\\aashi\\anaconda3\\lib\\site-packages (from requests->webdriver_manager) (3.4)\n",
      "Requirement already satisfied: urllib3<3,>=1.21.1 in c:\\users\\aashi\\anaconda3\\lib\\site-packages (from requests->webdriver_manager) (1.26.16)\n",
      "Requirement already satisfied: certifi>=2017.4.17 in c:\\users\\aashi\\anaconda3\\lib\\site-packages (from requests->webdriver_manager) (2023.7.22)\n",
      "Downloading webdriver_manager-4.0.1-py2.py3-none-any.whl (27 kB)\n",
      "Installing collected packages: webdriver_manager\n",
      "Successfully installed webdriver_manager-4.0.1\n"
     ]
    }
   ],
   "source": [
    "!pip install webdriver_manager"
   ]
  },
  {
   "cell_type": "code",
   "execution_count": 1,
   "id": "7fbcbd12",
   "metadata": {},
   "outputs": [],
   "source": [
    "from webdriver_manager.chrome import ChromeDriverManager\n",
    "from selenium import webdriver\n",
    "from time import sleep\n",
    "from selenium.webdriver.chrome.options import Options\n",
    "from selenium.webdriver.common.by import By\n",
    "from selenium.webdriver.common.keys import Keys"
   ]
  },
  {
   "cell_type": "code",
   "execution_count": 2,
   "id": "f1e317d5",
   "metadata": {},
   "outputs": [
    {
     "name": "stdout",
     "output_type": "stream",
     "text": [
      "chrome\n"
     ]
    }
   ],
   "source": [
    "#define options and set browser capabilities\n",
    "#for customizing chrome\n",
    "options=webdriver.ChromeOptions()\n",
    "options.add_argument('--some-option')\n",
    "\n",
    "#create webdriver instance with options\n",
    "driver=webdriver.Chrome(options=options) #creatung proxy\n",
    "\n",
    "#Access browser capabilities \n",
    "browser_name=options.to_capabilities()['browserName'] #it includes browser name, version, range,...\n",
    "print(browser_name)#just for reference or confirmation\n"
   ]
  },
  {
   "cell_type": "code",
   "execution_count": 3,
   "id": "d538acb3",
   "metadata": {},
   "outputs": [],
   "source": [
    "#navigate to the website\n",
    "driver.get('https://www.amazon.in/')"
   ]
  },
  {
   "cell_type": "code",
   "execution_count": 4,
   "id": "9e72ff2d",
   "metadata": {},
   "outputs": [],
   "source": [
    "search=driver.find_element(By.ID,'twotabsearchtextbox') #saving the searchbox in search"
   ]
  },
  {
   "cell_type": "code",
   "execution_count": 5,
   "id": "ffd2364c",
   "metadata": {},
   "outputs": [],
   "source": [
    "search.send_keys('Dell laptops') #indirectly entering into the search box"
   ]
  },
  {
   "cell_type": "code",
   "execution_count": 6,
   "id": "0dbfb988",
   "metadata": {},
   "outputs": [],
   "source": [
    "driver.find_element(By.ID,\"nav-search-submit-button\").click()"
   ]
  },
  {
   "cell_type": "code",
   "execution_count": 7,
   "id": "5cc1edfd",
   "metadata": {},
   "outputs": [],
   "source": [
    "driver.find_element(By.XPATH,\"//span[text()='Dell']\").click() #here the tag name is span"
   ]
  },
  {
   "cell_type": "code",
   "execution_count": 8,
   "id": "13f30710",
   "metadata": {},
   "outputs": [
    {
     "name": "stdout",
     "output_type": "stream",
     "text": [
      "['Dell 15 Laptop, Intel Core i5-1135G7 Processor/16GB DDR4/512GB SSD/Intel UHD Graphic/15.6\" (39.562cm) FHD Display/Win 11+MSO\\'21/15 Month McAfee/Spill-Resistant Keyboard/Carbon/Thin & Light 1.69kg', 'Dell 14 Laptop, 12th Gen Intel Core i5-1235U Processor, 16GB, 512GB, 14.0\" (35.56cm) FHD Display, Windows 11 + MSO\\'21, Spill-Resistant Keyboard, 15 Month Mcafee, Black, Thin & Light- 1.48kg', 'Dell 14 Laptop, AMD Ryzen R5-5500U/ 8GB DDR4, 2400 MHz/ 512GB/ 14.0\" (35.56cm) FHD Display with Comfort View/Windows 11 + MSO\\'21/15 Month McAfee/Spill-Resistant Keyboard/Carbon Black/ 1.48kg', 'Dell Inspiron 3520 Laptop, Intel Core i5-1235U Processor, 16GB,512GB,15.6\" (39.62cm) FHD Display, Backlit Keyboard, Win 11 + MSO\\'21,15 Month McAfee, Silver, Thin & Light-1.65kg', 'Dell 14 Laptop, 12th Gen Intel Core i3-1215U Processor/8GB/512GB SSD/Intel UHD Graphics/14.0\"(35.56cm) FHD/Windows 11 + MSO\\'21/15 Month McAfee/Spill-Resistant Keyboard/Grey/Thin & Light 1.48kg', 'Dell 14 Laptop, 12th Gen Intel Core i5-1235U Processor, 16GB, 512GB, 14.0\" (35.56cm) FHD Display, Windows 11 + MSO\\'21, Spill-Resistant Keyboard, 15 Month Mcafee, Black, Thin & Light- 1.48kg', 'Dell Inspiron 3535 Laptop, AMD 7 Series Ryzen 5-7520U Processor/8GB/512GB/15.6\" (39.62cm) FHD WVA AG 120Hz 250 nits Display/Win 11 + MSO\\'21/15 Month McAfee/Platinum Silver/1.63kg', 'Dell 15 Laptop, Intel Core i5-1135G7 Processor/ 8GB/ 1TB+256GB SSD/15.6\"(39.62cm) FHD Display/Mobile Connect/Windows 11 + MSO\\'21/15 Month McAfee/Spill-Resistant Keyboard/Black/Thin & Light 1.69kg', '(Renewed) DELL Latitude 5490 Core i5 8th Gen Laptop, 16 GB RAM, 512GB SSD, Intel HD Graphics, 14 inch (36.83 cms) HD Screen, Windows 11 (Upgraded), MS Office, Black, Slim', 'Dell Inspiron 7430 2in1 Touch Laptop, 13th Gen Intel Core i3-1315U/8GB/1TB SSD/14.0\" (35.56cm) FHD+,16:10 Aspect Ratio/Backlit KB+FPR/Win 11+MSO\\'21/15 Months McAfee/Platinum Silver/Thin & Light-1.58kg', 'Dell Inspiron 3530 Laptop, 13th Gen Intel Core i5-1335U Processor/16GB/1TB SSD/15.6\" (39.62cm) FHD Display/Backlit Keyboard/Platinum Silver/Win 11 + MSO\\'21/15 Month McAfee/Thin & Light- 1.66kg', 'Dell 15 Laptop, Intel Core i3-1115G4 Processor/8GB DDR4/512GB SSD/Intel UHD Graphics/15.6\" (39.6cm) FHD 120Hz Refresh, 250 nits/Mobile Connect/Win 11+MSO\\'21/15 Month McAfee/Black/Thin & Light-1.66kg', 'Dell 14 Laptop, Intel Core i5-1135G7 Processor/8GB/512GB/Intel UHD Graphic/14.0\" (35.6cm) FHD with Comfort View/Spill-Resistant Keyboard/Thin & Light 1.48kg/ Win 11+ MSO\\'21/15 Month McAfee/Titan Grey', 'Dell Inspiron 5430 Laptop, 13th Gen Intel Core i7-1360P Processor/16GB/1TB SSD/14.0\" (35.56cm) FHD+ WVA 250 nits/Backlit KB + FPR/Win 11 + MSO\\'21/15 Month McAfee/Platinum Silver/Thin & Light- 1.59kg', 'Dell Inspiron 7430 2in1 Touch Laptop, 13th Gen Intel Core i3-1315U/8GB/1TB SSD/14.0\" (35.56cm) FHD+,16:10 Aspect Ratio/Backlit KB+FPR/Win 11+MSO\\'21/15 Months McAfee/Platinum Silver/Thin & Light-1.58kg', 'Dell Inspiron 5430 13th Gen Laptop, Intel Core i5-1335U Processor/16GB/ 512GB SSD/14.0\" (35.56cm) FHD+/Backlit KB + FPR/Win 11 + MSO\\'2/McAfee 15 Months/Silver/Thunderbolt 4.0 Port/Thin & Light-1.59kg', 'Dell XPS 9315 Laptop, Intel i5-1230U, 16GB LPDDR5, 512Gb SSD, 13.4\" (35.5 Cms) FHD+ AG Infinity Edge 500 nits, Backlit KB & FPR, Win 11 + MSO\\'21, Sky Color (ICC-C786507WIN8, 1.17Kgs)', 'Dell 14, Intel 12th Gen i5-1235U Laptop/8GB/512GB SSD/14.0\" (35.56cm) FHD TÃœV Rheinland Certified Comfortview to Reduce Harmful Blue Light Emission/Windows 11 + MSO\\'21/Black/15 Month McAfee,1.48kg', 'Dell G15 5520 Gaming Laptop, Intel i5-12500H/16GB DDR5/1TB SSD/15.6\" (39.62cm) FHD WVA AG 120Hz 250 nits/NVIDIA RTX 3050, 4 GB GDDR6/Win 11 + MSO\\'21/15 Months McAfee/Backlit KB/Dark Shadow Grey/2.81kg', 'Dell New 14\" Latitude 3420- i3 11th Gen || 8 GB || 512 GB SSD || 14\" Full HD 1920 x 1080 Pixels || Ubuntu-Dos || 1 Year Onsite with ADP Warranty', '(Renewed) Dell Latitude Laptop E5470 Intel Core i5 6th Gen. - 6200u Processor, 8 GB Ram & 256 GB SSD, 14.1 Inches HD Screen Notebook Computer', 'Dell Inspiron 3530 Laptop, Intel Core i7-1355U Processor, 16GB, 512GB, 15.6\" (39.62cm) FHD WVA AG 120Hz, Backlit KB + FPR, Win 11 + MSO\\'21, 15 Month McAfee, Silver, 1.62kg', '(Renewed) Dell Intel 5th Gen Core i5 5300U 14-Inch (35.56 cms) Laptop (8 GB/256 GB SSD/Windows 10/Intel HD Graphics/Black/), Latitude E5450', 'Dell 14 Laptop, 13th Gen Intel Core i5-1335U Processor/ 8GB/ 512GB SSD/ 14.0\" (35.56cm) FHD/Windows 11 + MSO\\'21/15 Month McAfee/Spill-Resistant Keyboard/Carbon Black/Thin & Light- 1.46kg', 'Dell Inspiron 5330 Laptop, Intel Evo Platform Powered by Intel Core i7-1360P Processor/16GB LP DDR5/1TB SSD/13.3\" (33.78cm) QHD+ 300 nits/Win 11 + MSO\\'21/15 Month McAfee/Platinum Silver/1.24kg', 'Dell G15-5520 Gaming Laptop, Intel Core i9-12900H Processor, 16GB DDR5/1TB SSD/NVIDIA RTX 3060 (6GB GDDR6)/15.6\" (39.62cm) FHD 165Hz 300 nits/Win 11 + MSO\\'21/15 Month McAfee/Dark Shadow Grey/2.81kg', 'Dell Inspiron 3520 Laptop,12th Gen Intel Core i3-1215, Windows 11 + MSO\\'21, McAfee 15 Months, 8GB, 512GB SSD, 15.6\" (39.62Cms) 3 Sided Narrow Border Design with 120Hz FHD Display, Black, 1.65Kgs', 'Dell Inspiron 3520 Laptop, Intel Core i3-1215U Processor, 8GB & 256GB SSD, 15.6\" (39.62Cm) FHD WVA AG 120Hz 250 nits, Win 11 + MSO\\'21, Carbon Black, 15 Months McAfee, Thin & Light- 1.65KG', 'Dell G15 5520 Gaming Laptop, Intel i5-12500H, 16GB DDR5, 512GB SSD, NVIDIA RTX 3050 (4GB GDDR6), 15.6\"(39.62cm) FHD 120Hz 250 nits Display, Backlit KB Orange, Win 11 + MSO\\'21, Dark Shadow Grey, 2.81kg', 'Dell 14 Laptop, 13th Gen Intel Core i5-1335U Processor/ 8GB/ 512GB SSD/ 14.0\" (35.56cm) FHD/Windows 11 + MSO\\'21/15 Month McAfee/Spill-Resistant Keyboard/Carbon Black/Thin & Light- 1.46kg']\n"
     ]
    }
   ],
   "source": [
    "names=driver.find_elements(By.XPATH,\"//span[@class='a-size-medium a-color-base a-text-normal']\")\n",
    "l_names=[i.text for i in names]\n",
    "print(l_names)"
   ]
  },
  {
   "cell_type": "code",
   "execution_count": 10,
   "id": "acc6aaf1",
   "metadata": {},
   "outputs": [
    {
     "name": "stdout",
     "output_type": "stream",
     "text": [
      "30\n"
     ]
    }
   ],
   "source": [
    "print(len(l_names))"
   ]
  },
  {
   "cell_type": "code",
   "execution_count": 12,
   "id": "f6b724f0",
   "metadata": {},
   "outputs": [
    {
     "name": "stdout",
     "output_type": "stream",
     "text": [
      "['34,990', '33,990', '35,990', '47,990', '49,990', '35,990', '55,280', '35,990', '49,990', '38,990', '44,990', '23,649', '57,990', '67,490', '33,990', '44,990', '83,490', '57,990', '68,990', '1,18,990', '46,990', '75,990', '30,630', '19,999', '71,490', '19,890', '56,990', '98,990', '1,24,990', '36,970', '34,380', '72,990', '56,990']\n"
     ]
    }
   ],
   "source": [
    "price=driver.find_elements(By.XPATH,\"//span[@class='a-price-whole']\")\n",
    "l_price=[i.text for i in price]\n",
    "print(l_price)"
   ]
  },
  {
   "cell_type": "code",
   "execution_count": 13,
   "id": "10b3280d",
   "metadata": {},
   "outputs": [
    {
     "name": "stdout",
     "output_type": "stream",
     "text": [
      "33\n"
     ]
    }
   ],
   "source": [
    "print(len(l_price))"
   ]
  },
  {
   "cell_type": "code",
   "execution_count": 14,
   "id": "d35e0a9b",
   "metadata": {},
   "outputs": [
    {
     "name": "stdout",
     "output_type": "stream",
     "text": [
      "['607', '72', '4', '2', '239', '72', '4', '607', '506', '179', '13', '631', '2', '82', '179', '82', '2', '138', '517', '1', '1,534', '1', '283', '34', '6', '31', '186', '195', '517', '34']\n"
     ]
    }
   ],
   "source": [
    "reviews=driver.find_elements(By.XPATH,\"//span[@class='a-size-base s-underline-text']\")\n",
    "l_review=[i.text for i in reviews]\n",
    "print(l_review)"
   ]
  },
  {
   "cell_type": "code",
   "execution_count": 15,
   "id": "6e8a6d6f",
   "metadata": {},
   "outputs": [
    {
     "name": "stdout",
     "output_type": "stream",
     "text": [
      "30\n"
     ]
    }
   ],
   "source": [
    "print(len(l_review))"
   ]
  },
  {
   "cell_type": "code",
   "execution_count": 28,
   "id": "c1a9826d",
   "metadata": {},
   "outputs": [
    {
     "name": "stdout",
     "output_type": "stream",
     "text": [
      "['47,990', '49,990', '35,990', '55,280', '35,990', '49,990', '38,990', '44,990', '23,649', '57,990', '67,490', '33,990', '44,990', '83,490', '57,990', '68,990', '1,18,990', '46,990', '75,990', '30,630', '19,999', '71,490', '19,890', '56,990', '98,990', '1,24,990', '36,970', '34,380', '72,990', '56,990']\n"
     ]
    }
   ],
   "source": [
    "l_price.pop(0) #popped thrice\n",
    "\n",
    "print(l_price)"
   ]
  },
  {
   "cell_type": "code",
   "execution_count": 29,
   "id": "1cc774cd",
   "metadata": {},
   "outputs": [
    {
     "data": {
      "text/plain": [
       "30"
      ]
     },
     "execution_count": 29,
     "metadata": {},
     "output_type": "execute_result"
    }
   ],
   "source": [
    "len(l_price)"
   ]
  },
  {
   "cell_type": "code",
   "execution_count": 30,
   "id": "0c745514",
   "metadata": {},
   "outputs": [],
   "source": [
    "headings=['Laptop','Price','Review']"
   ]
  },
  {
   "cell_type": "code",
   "execution_count": 32,
   "id": "ddb08cce",
   "metadata": {},
   "outputs": [],
   "source": [
    "import pandas as pd"
   ]
  },
  {
   "cell_type": "code",
   "execution_count": 33,
   "id": "be3c61e5",
   "metadata": {},
   "outputs": [
    {
     "name": "stdout",
     "output_type": "stream",
     "text": [
      "Empty DataFrame\n",
      "Columns: [Laptop, Price, Review]\n",
      "Index: []\n"
     ]
    }
   ],
   "source": [
    "df=pd.DataFrame(columns=headings)\n",
    "print(df)"
   ]
  },
  {
   "cell_type": "code",
   "execution_count": 35,
   "id": "54c2ce75",
   "metadata": {},
   "outputs": [],
   "source": [
    "df['Laptop']=l_names\n",
    "df['Price']=l_price\n",
    "df['Review']=l_review"
   ]
  },
  {
   "cell_type": "code",
   "execution_count": 36,
   "id": "0495822f",
   "metadata": {},
   "outputs": [
    {
     "name": "stdout",
     "output_type": "stream",
     "text": [
      "                                               Laptop     Price Review\n",
      "0   Dell 15 Laptop, Intel Core i5-1135G7 Processor...    47,990    607\n",
      "1   Dell 14 Laptop, 12th Gen Intel Core i5-1235U P...    49,990     72\n",
      "2   Dell 14 Laptop, AMD Ryzen R5-5500U/ 8GB DDR4, ...    35,990      4\n",
      "3   Dell Inspiron 3520 Laptop, Intel Core i5-1235U...    55,280      2\n",
      "4   Dell 14 Laptop, 12th Gen Intel Core i3-1215U P...    35,990    239\n",
      "5   Dell 14 Laptop, 12th Gen Intel Core i5-1235U P...    49,990     72\n",
      "6   Dell Inspiron 3535 Laptop, AMD 7 Series Ryzen ...    38,990      4\n",
      "7   Dell 15 Laptop, Intel Core i5-1135G7 Processor...    44,990    607\n",
      "8   (Renewed) DELL Latitude 5490 Core i5 8th Gen L...    23,649    506\n",
      "9   Dell Inspiron 7430 2in1 Touch Laptop, 13th Gen...    57,990    179\n",
      "10  Dell Inspiron 3530 Laptop, 13th Gen Intel Core...    67,490     13\n",
      "11  Dell 15 Laptop, Intel Core i3-1115G4 Processor...    33,990    631\n",
      "12  Dell 14 Laptop, Intel Core i5-1135G7 Processor...    44,990      2\n",
      "13  Dell Inspiron 5430 Laptop, 13th Gen Intel Core...    83,490     82\n",
      "14  Dell Inspiron 7430 2in1 Touch Laptop, 13th Gen...    57,990    179\n",
      "15  Dell Inspiron 5430 13th Gen Laptop, Intel Core...    68,990     82\n",
      "16  Dell XPS 9315 Laptop, Intel i5-1230U, 16GB LPD...  1,18,990      2\n",
      "17  Dell 14, Intel 12th Gen i5-1235U Laptop/8GB/51...    46,990    138\n",
      "18  Dell G15 5520 Gaming Laptop, Intel i5-12500H/1...    75,990    517\n",
      "19  Dell New 14\" Latitude 3420- i3 11th Gen || 8 G...    30,630      1\n",
      "20  (Renewed) Dell Latitude Laptop E5470 Intel Cor...    19,999  1,534\n",
      "21  Dell Inspiron 3530 Laptop, Intel Core i7-1355U...    71,490      1\n",
      "22  (Renewed) Dell Intel 5th Gen Core i5 5300U 14-...    19,890    283\n",
      "23  Dell 14 Laptop, 13th Gen Intel Core i5-1335U P...    56,990     34\n",
      "24  Dell Inspiron 5330 Laptop, Intel Evo Platform ...    98,990      6\n",
      "25  Dell G15-5520 Gaming Laptop, Intel Core i9-129...  1,24,990     31\n",
      "26  Dell Inspiron 3520 Laptop,12th Gen Intel Core ...    36,970    186\n",
      "27  Dell Inspiron 3520 Laptop, Intel Core i3-1215U...    34,380    195\n",
      "28  Dell G15 5520 Gaming Laptop, Intel i5-12500H, ...    72,990    517\n",
      "29  Dell 14 Laptop, 13th Gen Intel Core i5-1335U P...    56,990     34\n"
     ]
    }
   ],
   "source": [
    "print(df)"
   ]
  },
  {
   "cell_type": "code",
   "execution_count": 37,
   "id": "fd9f5004",
   "metadata": {},
   "outputs": [],
   "source": [
    "df.to_csv('Laptop_Details.csv')"
   ]
  },
  {
   "cell_type": "code",
   "execution_count": null,
   "id": "b4479044",
   "metadata": {},
   "outputs": [],
   "source": []
  }
 ],
 "metadata": {
  "kernelspec": {
   "display_name": "Python 3 (ipykernel)",
   "language": "python",
   "name": "python3"
  },
  "language_info": {
   "codemirror_mode": {
    "name": "ipython",
    "version": 3
   },
   "file_extension": ".py",
   "mimetype": "text/x-python",
   "name": "python",
   "nbconvert_exporter": "python",
   "pygments_lexer": "ipython3",
   "version": "3.11.5"
  }
 },
 "nbformat": 4,
 "nbformat_minor": 5
}
